{
 "cells": [
  {
   "cell_type": "code",
   "execution_count": 1,
   "id": "ac4dc223",
   "metadata": {},
   "outputs": [],
   "source": [
    "import numpy as np\n",
    "import scipy"
   ]
  },
  {
   "cell_type": "code",
   "execution_count": 232,
   "id": "55353c25",
   "metadata": {},
   "outputs": [],
   "source": [
    "def convolution(x,h,blocksize):\n",
    "    l = np.zeros(len(h))\n",
    "    y =[]\n",
    "    for i in range(len(x)):\n",
    "        l[0] = x[i] \n",
    "        acc =0\n",
    "        m = 0\n",
    "        for j in range(0,len(h)):\n",
    "            acc += h[j]*l[j]\n",
    "            print(h[j],l[j])\n",
    "            m = m+1\n",
    "        y.append(acc)\n",
    "        l = np.roll(l,1)\n",
    "    return y,l\n",
    "    \n",
    "    \n",
    "        \n",
    "    "
   ]
  },
  {
   "cell_type": "code",
   "execution_count": 309,
   "id": "926aed6b",
   "metadata": {},
   "outputs": [],
   "source": [
    "def tail(l,h):\n",
    "    tail = []\n",
    "    for k in range(len(h)-1):\n",
    "        l[0] = 0\n",
    "        acc =0\n",
    "        for j in range(len(h)):\n",
    "            print(j)\n",
    "            print(h[j],l[j])\n",
    "            acc += h[j]*l[j]\n",
    "        tail.append(acc)\n",
    "        l = np.roll(l,1)\n",
    "    return tail\n",
    "        \n",
    "    \n",
    "    \n",
    "    "
   ]
  },
  {
   "cell_type": "code",
   "execution_count": 327,
   "id": "7e543097",
   "metadata": {},
   "outputs": [],
   "source": [
    "def pad_zeros(x, new_length):\n",
    "    output = np.zeros((new_length,))\n",
    "    output[:x.shape[0]] = x\n",
    "    return output"
   ]
  },
  {
   "cell_type": "code",
   "execution_count": 328,
   "id": "72c6b8f5",
   "metadata": {},
   "outputs": [],
   "source": [
    "def blocking_convolution(x,h,b):\n",
    "    N = len(h)\n",
    "    M = len(x)\n",
    "    num_conv_blocks = np.ceil(N / B).astype(int)\n",
    "    hp = pad_zeros(h, num_conv_blocks*B)\n",
    "    num_inp_blocks =  np.ceil(M / B).astype(int)\n",
    "    xp = pad_zeros(x, num_inp_blocks*B)\n",
    "    output_size = num_input_blocks * B + num_conv_blocks*B - 1\n",
    "    \n",
    "    return 0\n",
    "    "
   ]
  },
  {
   "cell_type": "code",
   "execution_count": 313,
   "id": "63ea5d77",
   "metadata": {},
   "outputs": [
    {
     "name": "stdout",
     "output_type": "stream",
     "text": [
      "0 1.0\n",
      "0 0.0\n",
      "1 0.0\n",
      "0 0.0\n",
      "0 2.0\n",
      "0 1.0\n",
      "1 0.0\n",
      "0 0.0\n",
      "0 3.0\n",
      "0 2.0\n",
      "1 1.0\n",
      "0 0.0\n",
      "0 4.0\n",
      "0 3.0\n",
      "1 2.0\n",
      "0 1.0\n",
      "0 5.0\n",
      "0 4.0\n",
      "1 3.0\n",
      "0 2.0\n",
      "0 6.0\n",
      "0 5.0\n",
      "1 4.0\n",
      "0 3.0\n",
      "0 7.0\n",
      "0 6.0\n",
      "1 5.0\n",
      "0 4.0\n"
     ]
    }
   ],
   "source": [
    "y,l = convolution([1,2,3,4,5,6,7],[0,0,1,0],2)"
   ]
  },
  {
   "cell_type": "code",
   "execution_count": 314,
   "id": "b74b755e",
   "metadata": {},
   "outputs": [
    {
     "data": {
      "text/plain": [
       "[0.0, 0.0, 1.0, 2.0, 3.0, 4.0, 5.0]"
      ]
     },
     "execution_count": 314,
     "metadata": {},
     "output_type": "execute_result"
    }
   ],
   "source": [
    "y"
   ]
  },
  {
   "cell_type": "code",
   "execution_count": 315,
   "id": "c6833571",
   "metadata": {},
   "outputs": [
    {
     "data": {
      "text/plain": [
       "array([4., 7., 6., 5.])"
      ]
     },
     "execution_count": 315,
     "metadata": {},
     "output_type": "execute_result"
    }
   ],
   "source": [
    "l"
   ]
  },
  {
   "cell_type": "code",
   "execution_count": 316,
   "id": "24d9b977",
   "metadata": {},
   "outputs": [],
   "source": [
    "h = [0,0,1,0]\n"
   ]
  },
  {
   "cell_type": "code",
   "execution_count": 317,
   "id": "d6dd8145",
   "metadata": {},
   "outputs": [
    {
     "name": "stdout",
     "output_type": "stream",
     "text": [
      "0\n",
      "0 0.0\n",
      "1\n",
      "0 7.0\n",
      "2\n",
      "1 6.0\n",
      "3\n",
      "0 5.0\n",
      "0\n",
      "0 0.0\n",
      "1\n",
      "0 0.0\n",
      "2\n",
      "1 7.0\n",
      "3\n",
      "0 6.0\n",
      "0\n",
      "0 0.0\n",
      "1\n",
      "0 0.0\n",
      "2\n",
      "1 0.0\n",
      "3\n",
      "0 7.0\n"
     ]
    }
   ],
   "source": [
    "tail2 = tail(l,h)"
   ]
  },
  {
   "cell_type": "code",
   "execution_count": 318,
   "id": "1143aaa6",
   "metadata": {},
   "outputs": [
    {
     "data": {
      "text/plain": [
       "[6.0, 7.0, 0.0]"
      ]
     },
     "execution_count": 318,
     "metadata": {},
     "output_type": "execute_result"
    }
   ],
   "source": [
    "tail2"
   ]
  },
  {
   "cell_type": "code",
   "execution_count": null,
   "id": "c5aa8809",
   "metadata": {},
   "outputs": [],
   "source": []
  }
 ],
 "metadata": {
  "kernelspec": {
   "display_name": "Python 3 (ipykernel)",
   "language": "python",
   "name": "python3"
  },
  "language_info": {
   "codemirror_mode": {
    "name": "ipython",
    "version": 3
   },
   "file_extension": ".py",
   "mimetype": "text/x-python",
   "name": "python",
   "nbconvert_exporter": "python",
   "pygments_lexer": "ipython3",
   "version": "3.9.7"
  }
 },
 "nbformat": 4,
 "nbformat_minor": 5
}
